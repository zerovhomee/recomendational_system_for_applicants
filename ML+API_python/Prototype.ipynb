{
 "cells": [
  {
   "cell_type": "code",
   "execution_count": 85,
   "id": "ff2a5a94",
   "metadata": {},
   "outputs": [],
   "source": [
    "from sentence_transformers import SentenceTransformer\n",
    "model = SentenceTransformer('paraphrase-multilingual-MiniLM-L12-v2')"
   ]
  },
  {
   "cell_type": "code",
   "execution_count": 86,
   "id": "2cb327cd-6cd2-4810-b514-0d311bd11d5d",
   "metadata": {},
   "outputs": [],
   "source": [
    "from langchain.document_loaders import DirectoryLoader, TextLoader\n",
    "loader = DirectoryLoader(\n",
    "    '/home/egikor/ML/Rec_sys/ML+API_python/specialties', \n",
    "    glob=\"*.txt\", \n",
    "    loader_cls=TextLoader,\n",
    "    loader_kwargs={'encoding': 'utf-8'}\n",
    ")\n",
    "document = loader.load()"
   ]
  },
  {
   "cell_type": "code",
   "execution_count": 87,
   "id": "aaeed299-3b8c-4d84-9f79-9f61d87c6a93",
   "metadata": {},
   "outputs": [],
   "source": [
    "texts = [doc.page_content for doc in document]\n",
    "embeddings = model.encode(texts, normalize_embeddings=True)"
   ]
  },
  {
   "cell_type": "code",
   "execution_count": null,
   "id": "36bde9a4-6a96-43a0-a9e2-f8829ad8d6e4",
   "metadata": {},
   "outputs": [],
   "source": [
    "from sklearn.metrics.pairwise import cosine_similarity\n",
    "import numpy as np\n",
    "student_text = \"\"\"\n",
    "Люблю си шарп\n",
    "\"\"\"\n",
    "student_embedding = model.encode(student_text, normalize_embeddings=True)"
   ]
  },
  {
   "cell_type": "code",
   "execution_count": 89,
   "id": "c8d83784-dbb7-452b-a21b-c700e30ef53b",
   "metadata": {},
   "outputs": [
    {
     "data": {
      "text/plain": [
       "array([[0.42831033, 0.42184842, 0.52558637, 0.6881845 , 0.54408926,\n",
       "        0.4004781 , 0.41286814, 0.6301235 , 0.49324587, 0.50377595]],\n",
       "      dtype=float32)"
      ]
     },
     "execution_count": 89,
     "metadata": {},
     "output_type": "execute_result"
    }
   ],
   "source": [
    "similarities = cosine_similarity(\n",
    "    [student_embedding],  \n",
    "    embeddings           \n",
    ")\n",
    "similarities"
   ]
  },
  {
   "cell_type": "code",
   "execution_count": 90,
   "id": "f73e26d6-ecb7-475d-b554-9b94f3c4bacd",
   "metadata": {},
   "outputs": [],
   "source": [
    "similarity_scores = similarities[0]\n",
    "top = np.argsort(similarity_scores)[::-1]"
   ]
  },
  {
   "cell_type": "code",
   "execution_count": 91,
   "id": "30892a85-0bc9-496b-a525-8db659460840",
   "metadata": {},
   "outputs": [
    {
     "data": {
      "text/plain": [
       "array([3, 7, 4, 2, 9, 8, 0, 1, 6, 5])"
      ]
     },
     "execution_count": 91,
     "metadata": {},
     "output_type": "execute_result"
    }
   ],
   "source": [
    "top"
   ]
  },
  {
   "cell_type": "code",
   "execution_count": null,
   "id": "2750ed5f-7a13-4a43-8b65-212f76273e91",
   "metadata": {},
   "outputs": [
    {
     "name": "stdout",
     "output_type": "stream",
     "text": [
      "Алгоритмы исскусственного интелета ...\n",
      "Сходство: 0.6882\n",
      "\n",
      "Прикладная информатика ...\n",
      "Сходство: 0.6301\n",
      "\n",
      "Прикладная информатика ...\n",
      "Сходство: 0.5441\n",
      "\n",
      "Информатика и вычислительная техника...\n",
      "Сходство: 0.5256\n",
      "\n",
      "Конструирование и технология электронных средств...\n",
      "Сходство: 0.5038\n",
      "\n",
      "Управление в технических системах...\n",
      "Сходство: 0.4932\n",
      "\n",
      "Технология полиграфического и упаковочного производства...\n",
      "Сходство: 0.4283\n",
      "\n",
      "Инфокоммуникационные технологии и системы связи...\n",
      "Сходство: 0.4218\n",
      "\n",
      "Конструирование и технология электронных средств...\n",
      "Сходство: 0.4129\n",
      "\n",
      "Безопасность компьютерных систем...\n",
      "Сходство: 0.4005\n",
      "\n"
     ]
    }
   ],
   "source": [
    "for idx in top:\n",
    "    print(f\"{texts[idx][:texts[idx].find(\"\\n\")]}...\")\n",
    "    print(f\"Сходство: {similarity_scores[idx]:.4f}\")\n",
    "    print()\n",
    "\n",
    "#Алгоритмы исскусственного интелета (до Chat GPT)\n",
    "#Сходство: 0.6735\n",
    "#Алгоритмы исскусственного интелета (после Chat GPT в датасет)\n",
    "#Сходство: 0.6735\n",
    "#Алгоритмы исскусственного интелета (без Chat GPT в запросе пользователя)\n",
    "#Сходство: 0.6997\n",
    "\n",
    "#Алгоритмы исскусственного интелета ...\n",
    "#Сходство: 0.7055"
   ]
  },
  {
   "cell_type": "code",
   "execution_count": null,
   "id": "a69a85d7",
   "metadata": {},
   "outputs": [],
   "source": []
  }
 ],
 "metadata": {
  "kernelspec": {
   "display_name": "test_env",
   "language": "python",
   "name": "python3"
  },
  "language_info": {
   "codemirror_mode": {
    "name": "ipython",
    "version": 3
   },
   "file_extension": ".py",
   "mimetype": "text/x-python",
   "name": "python",
   "nbconvert_exporter": "python",
   "pygments_lexer": "ipython3",
   "version": "3.12.9"
  }
 },
 "nbformat": 4,
 "nbformat_minor": 5
}
