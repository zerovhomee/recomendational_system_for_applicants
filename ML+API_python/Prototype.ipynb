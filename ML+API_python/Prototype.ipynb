{
 "cells": [
  {
   "cell_type": "code",
   "execution_count": 17,
   "id": "ff2a5a94",
   "metadata": {},
   "outputs": [],
   "source": [
    "from sentence_transformers import SentenceTransformer\n",
    "model = SentenceTransformer('paraphrase-multilingual-MiniLM-L12-v2')"
   ]
  },
  {
   "cell_type": "code",
   "execution_count": 18,
   "id": "2cb327cd-6cd2-4810-b514-0d311bd11d5d",
   "metadata": {},
   "outputs": [],
   "source": [
    "from langchain.document_loaders import DirectoryLoader, TextLoader\n",
    "loader = DirectoryLoader(\n",
    "    '/home/egikor/ML/Git project/recomendational_system_for_applicants/Project Rec System/specialties', \n",
    "    glob=\"*.txt\", \n",
    "    loader_cls=TextLoader,\n",
    "    loader_kwargs={'encoding': 'utf-8'}\n",
    ")\n",
    "document = loader.load()"
   ]
  },
  {
   "cell_type": "code",
   "execution_count": 19,
   "id": "aaeed299-3b8c-4d84-9f79-9f61d87c6a93",
   "metadata": {},
   "outputs": [],
   "source": [
    "texts = [doc.page_content for doc in document]\n",
    "embeddings = model.encode(texts, normalize_embeddings=True)"
   ]
  },
  {
   "cell_type": "code",
   "execution_count": 20,
   "id": "36bde9a4-6a96-43a0-a9e2-f8829ad8d6e4",
   "metadata": {},
   "outputs": [],
   "source": [
    "from sklearn.metrics.pairwise import cosine_similarity\n",
    "import numpy as np\n",
    "student_text = \"\"\"\n",
    "Я всегда интересовался тем, как работают компьютеры и различные электронные устройства. Мне нравится разбираться в их устройстве, понимать, как взаимодействуют программное и аппаратное обеспечение. В свободное время изучаю основы программирования, читаю статьи о современных вычислительных системах и сетевых технологиях. Увлекаюсь сборкой и настройкой компьютеров, интересуюсь архитектурой ЭВМ и принципами работы операционных систем. В школе мне особенно нравятся математика и информатика, хорошо разбираюсь в логике и алгоритмах. В будущем хотел бы заниматься разработкой и обслуживанием компьютерных систем, создавать эффективные и надежные вычислительные решения для различных задач.\n",
    "\"\"\"\n",
    "student_embedding = model.encode(student_text, normalize_embeddings=True)"
   ]
  },
  {
   "cell_type": "code",
   "execution_count": 21,
   "id": "c8d83784-dbb7-452b-a21b-c700e30ef53b",
   "metadata": {},
   "outputs": [
    {
     "data": {
      "text/plain": [
       "array([[0.482623  , 0.63567007, 0.7749122 , 0.5612906 , 0.6764927 ,\n",
       "        0.55862075, 0.622999  , 0.69581413, 0.6542381 , 0.6800809 ]],\n",
       "      dtype=float32)"
      ]
     },
     "execution_count": 21,
     "metadata": {},
     "output_type": "execute_result"
    }
   ],
   "source": [
    "similarities = cosine_similarity(\n",
    "    [student_embedding],  \n",
    "    embeddings           \n",
    ")\n",
    "similarities"
   ]
  },
  {
   "cell_type": "code",
   "execution_count": 22,
   "id": "f73e26d6-ecb7-475d-b554-9b94f3c4bacd",
   "metadata": {},
   "outputs": [],
   "source": [
    "similarity_scores = similarities[0]\n",
    "top = np.argsort(similarity_scores)[::-1]"
   ]
  },
  {
   "cell_type": "code",
   "execution_count": 23,
   "id": "30892a85-0bc9-496b-a525-8db659460840",
   "metadata": {},
   "outputs": [
    {
     "data": {
      "text/plain": [
       "array([2, 7, 9, 4, 8, 1, 6, 3, 5, 0])"
      ]
     },
     "execution_count": 23,
     "metadata": {},
     "output_type": "execute_result"
    }
   ],
   "source": [
    "top"
   ]
  },
  {
   "cell_type": "code",
   "execution_count": 24,
   "id": "2750ed5f-7a13-4a43-8b65-212f76273e91",
   "metadata": {},
   "outputs": [
    {
     "name": "stdout",
     "output_type": "stream",
     "text": [
      "Информатика и вычислительная техника...\n",
      "Сходство: 0.7749\n",
      "\n",
      "Прикладная информатика ...\n",
      "Сходство: 0.6958\n",
      "\n",
      "Конструирование и технология электронных средств...\n",
      "Сходство: 0.6801\n",
      "\n",
      "Прикладная информатика ...\n",
      "Сходство: 0.6765\n",
      "\n",
      "Управление в технических системах...\n",
      "Сходство: 0.6542\n",
      "\n",
      "Инфокоммуникационные технологии и системы связи...\n",
      "Сходство: 0.6357\n",
      "\n",
      "Конструирование и технология электронных средств...\n",
      "Сходство: 0.6230\n",
      "\n",
      "Алгоритмы исскусственного интелета ...\n",
      "Сходство: 0.5613\n",
      "\n",
      "Безопасность компьютерных систем...\n",
      "Сходство: 0.5586\n",
      "\n",
      "Технология полиграфического и упаковочного производства...\n",
      "Сходство: 0.4826\n",
      "\n"
     ]
    }
   ],
   "source": [
    "for idx in top:\n",
    "    print(f\"{texts[idx][:texts[idx].find(\"\\n\")]}...\")\n",
    "    print(f\"Сходство: {similarity_scores[idx]:.4f}\")\n",
    "    print()"
   ]
  },
  {
   "cell_type": "code",
   "execution_count": null,
   "id": "a69a85d7",
   "metadata": {},
   "outputs": [],
   "source": []
  }
 ],
 "metadata": {
  "kernelspec": {
   "display_name": "test_env",
   "language": "python",
   "name": "python3"
  },
  "language_info": {
   "codemirror_mode": {
    "name": "ipython",
    "version": 3
   },
   "file_extension": ".py",
   "mimetype": "text/x-python",
   "name": "python",
   "nbconvert_exporter": "python",
   "pygments_lexer": "ipython3",
   "version": "3.12.9"
  }
 },
 "nbformat": 4,
 "nbformat_minor": 5
}
